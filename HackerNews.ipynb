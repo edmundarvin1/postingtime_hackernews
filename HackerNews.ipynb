{
 "cells": [
  {
   "cell_type": "markdown",
   "source": [
    "# Exploring Hacker News Ask Hn and Show Hn Posts\n",
    "- In this post we will answer the question, which time of the day should one post an Ask Hn or Show Hn to increase the probability of getting a decent readership.\n",
    "\n",
    "\n"
   ],
   "metadata": {
    "collapsed": true
   }
  },
  {
   "cell_type": "code",
   "execution_count": 6,
   "source": [
    "import csv\r\n",
    "opened_file = open(\"hacker_news.csv\")\r\n",
    "reader_file = csv.reader(opened_file)\r\n",
    "hn = list(reader_file)\r\n",
    "headers = hn[0]\r\n",
    "print(headers ,\"\\n\")\r\n",
    "hn = hn[1:]\r\n",
    "x=0\r\n",
    "while x!=5 :\r\n",
    "    print(hn[x])\r\n",
    "    print('\\n')\r\n",
    "    x+=1"
   ],
   "outputs": [
    {
     "output_type": "stream",
     "name": "stdout",
     "text": [
      "['id', 'title', 'url', 'num_points', 'num_comments', 'author', 'created_at'] \n",
      "\n",
      "['12224879', 'Interactive Dynamic Video', 'http://www.interactivedynamicvideo.com/', '386', '52', 'ne0phyte', '8/4/2016 11:52']\n",
      "\n",
      "\n",
      "['10975351', 'How to Use Open Source and Shut the Fuck Up at the Same Time', 'http://hueniverse.com/2016/01/26/how-to-use-open-source-and-shut-the-fuck-up-at-the-same-time/', '39', '10', 'josep2', '1/26/2016 19:30']\n",
      "\n",
      "\n",
      "['11964716', \"Florida DJs May Face Felony for April Fools' Water Joke\", 'http://www.thewire.com/entertainment/2013/04/florida-djs-april-fools-water-joke/63798/', '2', '1', 'vezycash', '6/23/2016 22:20']\n",
      "\n",
      "\n",
      "['11919867', 'Technology ventures: From Idea to Enterprise', 'https://www.amazon.com/Technology-Ventures-Enterprise-Thomas-Byers/dp/0073523429', '3', '1', 'hswarna', '6/17/2016 0:01']\n",
      "\n",
      "\n",
      "['10301696', 'Note by Note: The Making of Steinway L1037 (2007)', 'http://www.nytimes.com/2007/11/07/movies/07stein.html?_r=0', '8', '2', 'walterbell', '9/30/2015 4:12']\n",
      "\n",
      "\n"
     ]
    }
   ],
   "metadata": {
    "collapsed": false
   }
  },
  {
   "cell_type": "markdown",
   "source": [
    "Above, I have loaded the csv file containing 20,000+ posts on hacker news. Printed the headers and removed them from our dataset.  We have now have an idea how the data is structured. Let's proceed with the data formatting for our analysis.\r\n",
    "\r\n",
    "---"
   ],
   "metadata": {}
  },
  {
   "cell_type": "code",
   "execution_count": 16,
   "source": [
    "ask_posts = []\r\n",
    "show_posts = []\r\n",
    "other_posts = []\r\n",
    "\r\n",
    "for row in hn:\r\n",
    "    title = row[1]\r\n",
    "    title_lower = title.lower()\r\n",
    "    if title_lower.startswith('ask hn'):\r\n",
    "        ask_posts.append(row)\r\n",
    "    elif title_lower.startswith('show hn'):\r\n",
    "        show_posts.append(row)\r\n",
    "    else:\r\n",
    "        other_posts.append(row)\r\n",
    "print('Number of Ask HN posts:', len(ask_posts))\r\n",
    "print('Number of Show HN posts:', len(show_posts))\r\n",
    "print('Number of Other posts:', len(other_posts))"
   ],
   "outputs": [
    {
     "output_type": "stream",
     "name": "stdout",
     "text": [
      "Number of Ask HN posts: 1744\n",
      "Number of Show HN posts: 1162\n",
      "Number of Other posts: 17194\n"
     ]
    }
   ],
   "metadata": {
    "collapsed": false
   }
  },
  {
   "cell_type": "markdown",
   "source": [
    "# We have now filtered our data into Ask and Show HN posts.\n",
    "Note that there are more ASk Hn posts that Show Hn post. What we are interested in is which type garners more user activity to be able to narrow down the focus of our analysis. This way, our recommendation will be more specific and thus more actionable.\n",
    "\n",
    "We will now use number of comments per posts as a proxy to measure user activity on the post."
   ],
   "metadata": {}
  },
  {
   "cell_type": "code",
   "execution_count": 19,
   "source": [
    "total_ask_comments= 0\r\n",
    "for row in ask_posts:\r\n",
    "    num_comments = int(row[4])\r\n",
    "    total_ask_comments += num_comments\r\n",
    "    \r\n",
    "avg_ask_comments = total_ask_comments/len(ask_posts)\r\n",
    "print('Average Ask HN Comments:',avg_ask_comments)\r\n",
    "\r\n",
    "total_show_comments= 0\r\n",
    "for row in show_posts:\r\n",
    "    num_comments = int(row[4])\r\n",
    "    total_show_comments += num_comments\r\n",
    "    \r\n",
    "avg_show_comments = total_show_comments/len(show_posts)\r\n",
    "print('Average Show HN Comments:',avg_show_comments)\r\n",
    "\r\n",
    "\r\n",
    "\r\n",
    "    "
   ],
   "outputs": [
    {
     "output_type": "stream",
     "name": "stdout",
     "text": [
      "Average Ask HN Comments: 14.038417431192661\n",
      "Average Show HN Comments: 10.31669535283993\n"
     ]
    }
   ],
   "metadata": {
    "collapsed": false
   }
  },
  {
   "cell_type": "markdown",
   "source": [
    "# Our preliminary manipulations showed that on average, Ask HN posts garner more comments. \n",
    "With this in mind, we will proceed with our analysis with Ask HN posts as the focus. Will try to find the most efficient time to post new content that will likely produce more user activity. As a proxy, we will use the average comments per post on any given hour."
   ],
   "metadata": {}
  },
  {
   "cell_type": "code",
   "execution_count": 70,
   "source": [
    "import datetime as dt\n",
    "result_list = []\n",
    "for post in ask_posts:\n",
    "    time_created = post[6]\n",
    "    num_comments = int(post[4])\n",
    "    result_list.append([time_created,num_comments])\n",
    "\n",
    "counts_by_hour = {}\n",
    "comments_by_hour = {}\n",
    "\n",
    "for pair in result_list:\n",
    "    date_str = pair[0]\n",
    "    date = dt.datetime.strptime(date_str,'%m/%d/%Y %H:%M')\n",
    "    hour = date.strftime('%H')\n",
    "    \n",
    "    if hour not in counts_by_hour:\n",
    "        counts_by_hour[hour] = 1\n",
    "        comments_by_hour[hour] = pair[1] #this is the number of comments\n",
    "        \n",
    "    else:\n",
    "        counts_by_hour[hour] +=1 \n",
    "        comments_by_hour[hour] += pair[1] \n",
    "        \n",
    "avg_by_hour = []\n",
    "\n",
    "for hour in counts_by_hour:\n",
    "    avg_by_hour.append([hour, comments_by_hour[hour]/counts_by_hour[hour]])\n",
    "#We have created a list that contains the average number of comments per post\n",
    "# for every hour. This Is what we need.\n",
    "\n",
    "\n",
    "#All the code below is just for formatting purposes\n",
    "#to make it easier to present.\n",
    "swap_avg_by_hour = []\n",
    "\n",
    "for row in avg_by_hour:\n",
    "    swap_avg_by_hour.append([row[1],row[0]])\n",
    "    \n",
    "swap_avg_by_hour.sort(reverse=True)\n",
    "sorted_swap = swap_avg_by_hour\n",
    "\n",
    "print('Top 5 Hours for Ask Posts Comments')\n",
    "for hour in sorted_swap[:5]:\n",
    "    hour[1] = dt.datetime.strptime(hour[1], '%H')\n",
    "    hour[1] = hour[1].strftime(\"%H:%m\")\n",
    "    print(\"{} :{:.2f} average comments per post.\".format(hour[1],hour[0]))\n",
    "\n",
    "\n",
    "\n",
    "    "
   ],
   "outputs": [
    {
     "output_type": "stream",
     "name": "stdout",
     "text": [
      "Top 5 Hours for Ask Posts Comments\n",
      "15:01 :38.59 average comments per post.\n",
      "02:01 :23.81 average comments per post.\n",
      "20:01 :21.52 average comments per post.\n",
      "16:01 :16.80 average comments per post.\n",
      "21:01 :16.01 average comments per post.\n"
     ]
    }
   ],
   "metadata": {
    "collapsed": false
   }
  },
  {
   "cell_type": "markdown",
   "source": [
    "# Conclusion\n",
    "Note that these times are in the Eastern Time Zone. Thus, for people in the Philippines, you just have to account that our time is 12 Hours advance.\n",
    "So for the top spot which is 15:01 or 3:01 PM in the afternoon in Eastern Time, that is 3:01 AM in the Philippines. \n",
    "\n",
    "What I recommend is to go for the 3rd spot which is at 8:00 AM Philippine time so will still be able to maximize the post's exposure without sacrificing your sleeping habits."
   ],
   "metadata": {}
  },
  {
   "cell_type": "markdown",
   "source": [
    "\n"
   ],
   "metadata": {}
  }
 ],
 "metadata": {
  "kernelspec": {
   "display_name": "Python 3",
   "language": "python",
   "name": "python3"
  },
  "language_info": {
   "codemirror_mode": {
    "name": "ipython",
    "version": 3
   },
   "file_extension": ".py",
   "mimetype": "text/x-python",
   "name": "python",
   "nbconvert_exporter": "python",
   "pygments_lexer": "ipython3",
   "version": "3.4.3"
  }
 },
 "nbformat": 4,
 "nbformat_minor": 2
}